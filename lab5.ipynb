{
 "cells": [
  {
   "cell_type": "code",
   "execution_count": 3,
   "metadata": {
    "colab": {
     "base_uri": "https://localhost:8080/"
    },
    "executionInfo": {
     "elapsed": 4767,
     "status": "ok",
     "timestamp": 1681241360175,
     "user": {
      "displayName": "Yaroslav Pererva",
      "userId": "13071866761254317246"
     },
     "user_tz": -60
    },
    "id": "Q1NeVaswkur2",
    "outputId": "4eb62e88-51e0-4c81-de8f-a6954549b64a"
   },
   "outputs": [
    {
     "name": "stdout",
     "output_type": "stream",
     "text": [
      "Requirement already satisfied: tensorflow-hub in /Users/anastasiia_variichuk/anaconda3/lib/python3.10/site-packages (0.13.0)\r\n",
      "Requirement already satisfied: numpy>=1.12.0 in /Users/anastasiia_variichuk/anaconda3/lib/python3.10/site-packages (from tensorflow-hub) (1.23.5)\r\n",
      "Requirement already satisfied: protobuf>=3.19.6 in /Users/anastasiia_variichuk/anaconda3/lib/python3.10/site-packages (from tensorflow-hub) (3.20.3)\r\n"
     ]
    },
    {
     "data": {
      "text/plain": [
       "[]"
      ]
     },
     "execution_count": 3,
     "metadata": {},
     "output_type": "execute_result"
    }
   ],
   "source": [
    "!pip install tensorflow-hub\n",
    "import matplotlib.pyplot as plt\n",
    "import numpy as np\n",
    "import tensorflow as tf\n",
    "import tensorflow_datasets as tfds\n",
    "import tensorflow_hub as hub\n",
    "\n",
    "tf.config.list_physical_devices('GPU')"
   ]
  },
  {
   "cell_type": "code",
   "execution_count": 7,
   "metadata": {
    "colab": {
     "base_uri": "https://localhost:8080/"
    },
    "executionInfo": {
     "elapsed": 7,
     "status": "ok",
     "timestamp": 1681241360175,
     "user": {
      "displayName": "Yaroslav Pererva",
      "userId": "13071866761254317246"
     },
     "user_tz": -60
    },
    "id": "X-oQsbyrFpug",
    "outputId": "3a4656c1-3463-49d8-b956-1ab9b717c7ab"
   },
   "outputs": [
    {
     "name": "stdout",
     "output_type": "stream",
     "text": [
      "tfds.core.DatasetInfo(\n",
      "    name='food101',\n",
      "    full_name='food101/2.0.0',\n",
      "    description=\"\"\"\n",
      "    This dataset consists of 101 food categories, with 101'000 images. For each class, 250 manually reviewed test images are provided as well as 750 training images. On purpose, the training images were not cleaned, and thus still contain some amount of noise. This comes mostly in the form of intense colors and sometimes wrong labels. All images were rescaled to have a maximum side length of 512 pixels.\n",
      "    \"\"\",\n",
      "    homepage='https://data.vision.ee.ethz.ch/cvl/datasets_extra/food-101/',\n",
      "    data_path='/Users/anastasiia_variichuk/tensorflow_datasets/food101/2.0.0',\n",
      "    file_format=tfrecord,\n",
      "    download_size=4.65 GiB,\n",
      "    dataset_size=4.77 GiB,\n",
      "    features=FeaturesDict({\n",
      "        'image': Image(shape=(None, None, 3), dtype=uint8),\n",
      "        'label': ClassLabel(shape=(), dtype=int64, num_classes=101),\n",
      "    }),\n",
      "    supervised_keys=('image', 'label'),\n",
      "    disable_shuffling=False,\n",
      "    splits={\n",
      "        'train': <SplitInfo num_examples=75750, num_shards=32>,\n",
      "        'validation': <SplitInfo num_examples=25250, num_shards=16>,\n",
      "    },\n",
      "    citation=\"\"\"@inproceedings{bossard14,\n",
      "      title = {Food-101 -- Mining Discriminative Components with Random Forests},\n",
      "      author = {Bossard, Lukas and Guillaumin, Matthieu and Van Gool, Luc},\n",
      "      booktitle = {European Conference on Computer Vision},\n",
      "      year = {2014}\n",
      "    }\"\"\",\n",
      ")\n"
     ]
    }
   ],
   "source": [
    "dataset, dataset_info = tfds.load('food101', split='train', with_info=True)\n",
    "print(dataset_info)"
   ]
  },
  {
   "cell_type": "code",
   "execution_count": 8,
   "metadata": {
    "id": "YQ2BUkYiFpug"
   },
   "outputs": [],
   "source": [
    "img_height = 224\n",
    "img_width = 224\n",
    "batch_size = 32\n",
    "\n",
    "# Розрахувати кількість зразків для потягу та тестових наборів\n",
    "train_size = dataset_info.splits['train'].num_examples\n",
    "test_size = dataset_info.splits['validation'].num_examples\n",
    "dataset = dataset.take(test_size)\n",
    "dataset = dataset.map(\n",
    "  lambda item: (tf.keras.applications.resnet50.preprocess_input(item['image']), item['label'])\n",
    ")\n",
    "dataset = dataset.map(\n",
    "    lambda img, label: (tf.image.resize(img, (img_height, img_width)), label)\n",
    ")\n",
    "dataset = dataset.shuffle(1000).batch(batch_size)"
   ]
  },
  {
   "cell_type": "code",
   "execution_count": 9,
   "metadata": {
    "id": "jf-FJD1r-Bmd"
   },
   "outputs": [],
   "source": [
    "# Розділити набір даних на тренувальний і тестовий набори\n",
    "train_size = int(test_size*0.8)\n",
    "test_size = int(test_size*0.2)\n",
    "train_dataset = dataset.take(train_size)\n",
    "test_dataset = dataset.skip(test_size)"
   ]
  },
  {
   "cell_type": "code",
   "execution_count": 10,
   "metadata": {
    "colab": {
     "base_uri": "https://localhost:8080/"
    },
    "executionInfo": {
     "elapsed": 5,
     "status": "ok",
     "timestamp": 1681241360176,
     "user": {
      "displayName": "Yaroslav Pererva",
      "userId": "13071866761254317246"
     },
     "user_tz": -60
    },
    "id": "KWKZlTVpGJMI",
    "outputId": "0e78d5ed-e991-4476-a548-6a28c474b747"
   },
   "outputs": [
    {
     "data": {
      "text/plain": [
       "101"
      ]
     },
     "execution_count": 10,
     "metadata": {},
     "output_type": "execute_result"
    }
   ],
   "source": [
    "num_classes = dataset_info.features['label'].num_classes\n",
    "num_classes"
   ]
  },
  {
   "cell_type": "code",
   "execution_count": 11,
   "metadata": {
    "id": "XVlE812THFFS"
   },
   "outputs": [],
   "source": [
    "def eval_model(model, ds, history):\n",
    "  # Діагностика моделі\n",
    "  loss = model.evaluate(ds, verbose=0)\n",
    "  print(f\"Sparse categorical crossentropy loss: {loss[1]}\")\n",
    "\n",
    "  # Візуалізуємо результати\n",
    "  plt.plot(history.history['accuracy'], label='accuracy')\n",
    "  plt.xlabel(\"Epochs\")\n",
    "  plt.ylabel(\"Loss\")\n",
    "  plt.legend()\n",
    "  plt.show()\n",
    "\n",
    "def eval_models(models, names, histories, ds):\n",
    "  for history, model, model_name in zip(histories, models, names):\n",
    "    plt.plot(history.history['accuracy'], label=f'{model_name} accuracy')\n",
    "    loss = model.evaluate(ds, verbose=0)\n",
    "    print(f\"{model_name}:loss: {loss}\")    \n",
    "\n",
    "  plt.xlabel(\"Epochs\")\n",
    "  plt.ylabel(\"Accuracy\")\n",
    "  plt.legend()\n",
    "  plt.show()\n"
   ]
  },
  {
   "cell_type": "code",
   "execution_count": 12,
   "metadata": {
    "id": "7boVOXMJ-yy1"
   },
   "outputs": [],
   "source": [
    "def create_resnet():\n",
    "  return tf.keras.models.Sequential([\n",
    "    tf.keras.layers.Input(shape=(224, 224, 3)),\n",
    "    hub.KerasLayer(\"https://tfhub.dev/google/imagenet/resnet_v1_101/feature_vector/5\",\n",
    "                   trainable = False),\n",
    "    tf.keras.layers.Dense(num_classes, activation='softmax')\n",
    "  ])\n",
    "resnet_adam = create_resnet()\n",
    "resnet_sgd = create_resnet()"
   ]
  },
  {
   "cell_type": "code",
   "execution_count": 13,
   "metadata": {
    "id": "m4YR2_bkHZxE"
   },
   "outputs": [],
   "source": [
    "# resnet ADAM\n",
    "resnet_adam.build([None,224, 224, 3])\n",
    "resnet_sgd.build([None,224, 224, 3])\n",
    "resnet_adam.compile(optimizer='adam', loss=tf.keras.losses.SparseCategoricalCrossentropy(), metrics=[\"accuracy\"])\n",
    "resnet_sgd.compile(optimizer='sgd', loss=tf.keras.losses.SparseCategoricalCrossentropy(), metrics=[\"accuracy\"])"
   ]
  },
  {
   "cell_type": "code",
   "execution_count": 14,
   "metadata": {
    "colab": {
     "base_uri": "https://localhost:8080/"
    },
    "executionInfo": {
     "elapsed": 13,
     "status": "ok",
     "timestamp": 1681241380571,
     "user": {
      "displayName": "Yaroslav Pererva",
      "userId": "13071866761254317246"
     },
     "user_tz": -60
    },
    "id": "h0D8Ch7ZN9vA",
    "outputId": "f2afd7dd-cebf-4e3e-8583-e0fcdb51cb86"
   },
   "outputs": [
    {
     "name": "stdout",
     "output_type": "stream",
     "text": [
      "Model: \"sequential\"\n",
      "_________________________________________________________________\n",
      " Layer (type)                Output Shape              Param #   \n",
      "=================================================================\n",
      " keras_layer (KerasLayer)    (None, 2048)              42605504  \n",
      "                                                                 \n",
      " dense (Dense)               (None, 101)               206949    \n",
      "                                                                 \n",
      "=================================================================\n",
      "Total params: 42,812,453\n",
      "Trainable params: 206,949\n",
      "Non-trainable params: 42,605,504\n",
      "_________________________________________________________________\n"
     ]
    }
   ],
   "source": [
    "resnet_adam.summary()"
   ]
  },
  {
   "cell_type": "code",
   "execution_count": 15,
   "metadata": {
    "colab": {
     "base_uri": "https://localhost:8080/"
    },
    "executionInfo": {
     "elapsed": 31268,
     "status": "ok",
     "timestamp": 1681241411829,
     "user": {
      "displayName": "Yaroslav Pererva",
      "userId": "13071866761254317246"
     },
     "user_tz": -60
    },
    "id": "NUxuc-V2GzoG",
    "outputId": "69a8df62-d0c1-4b9c-fdac-3eb04deac447"
   },
   "outputs": [
    {
     "name": "stdout",
     "output_type": "stream",
     "text": [
      "Model: \"sequential_2\"\n",
      "_________________________________________________________________\n",
      " Layer (type)                Output Shape              Param #   \n",
      "=================================================================\n",
      " keras_layer_2 (KerasLayer)  (None, 1280)              4049564   \n",
      "                                                                 \n",
      " dense_2 (Dense)             (None, 101)               129381    \n",
      "                                                                 \n",
      "=================================================================\n",
      "Total params: 4,178,945\n",
      "Trainable params: 129,381\n",
      "Non-trainable params: 4,049,564\n",
      "_________________________________________________________________\n"
     ]
    }
   ],
   "source": [
    "def create_efficientNet():\n",
    "  return tf.keras.Sequential([\n",
    "      hub.KerasLayer(\"https://tfhub.dev/tensorflow/efficientnet/b0/feature-vector/1\",\n",
    "                    trainable=False),  # Can be True, see below.\n",
    "      tf.keras.layers.Dense(num_classes, activation='softmax')\n",
    "  ])\n",
    "\n",
    "efficientNet_sgd = create_efficientNet()\n",
    "efficientNet_adam = create_efficientNet()\n",
    "efficientNet_sgd.build([None, 224, 224, 3])\n",
    "efficientNet_adam.build([None, 224, 224, 3])\n",
    "efficientNet_sgd.compile(optimizer='sgd', loss=tf.keras.losses.SparseCategoricalCrossentropy(), metrics=[\"accuracy\"])\n",
    "efficientNet_adam.compile(optimizer='adam', loss=tf.keras.losses.SparseCategoricalCrossentropy(), metrics=[\"accuracy\"])\n",
    "efficientNet_sgd.summary()"
   ]
  },
  {
   "cell_type": "code",
   "execution_count": 16,
   "metadata": {
    "colab": {
     "base_uri": "https://localhost:8080/",
     "height": 661
    },
    "id": "tFP3IIiC3Xur",
    "outputId": "013bd673-6de3-48fb-8f89-9301a0754992"
   },
   "outputs": [],
   "source": [
    "# Створення\n",
    "model = tf.keras.models.Sequential([\n",
    "     tf.keras.layers.Conv2D(32, kernel_size = (2,2), activation='relu'),\n",
    "     tf.keras.layers.MaxPool2D(pool_size = 2, strides=2),\n",
    "\n",
    "     tf.keras.layers.Conv2D(64, kernel_size = (2,2), activation='relu'),\n",
    "     tf.keras.layers.MaxPool2D(pool_size = 2, strides=2),\n",
    "\n",
    "     tf.keras.layers.Flatten(),\n",
    "     tf.keras.layers.Dense(1024, activation='relu'),\n",
    "     tf.keras.layers.Dense(101, activation='softmax')\n",
    " ])\n"
   ]
  },
  {
   "cell_type": "code",
   "execution_count": 17,
   "metadata": {},
   "outputs": [],
   "source": [
    "# Компілція\n",
    "model.compile(optimizer='adam', loss=tf.keras.losses.SparseCategoricalCrossentropy(), metrics=[\"accuracy\"])"
   ]
  },
  {
   "cell_type": "code",
   "execution_count": 18,
   "metadata": {},
   "outputs": [
    {
     "name": "stdout",
     "output_type": "stream",
     "text": [
      "Epoch 1/10\n"
     ]
    },
    {
     "name": "stderr",
     "output_type": "stream",
     "text": [
      "2023-05-05 13:54:06.515798: W tensorflow/core/platform/profile_utils/cpu_utils.cc:128] Failed to get CPU frequency: 0 Hz\n"
     ]
    },
    {
     "name": "stdout",
     "output_type": "stream",
     "text": [
      "790/790 [==============================] - 1021s 1s/step - loss: 216.4295 - accuracy: 0.0114\n",
      "Epoch 2/10\n",
      "790/790 [==============================] - 941s 1s/step - loss: 3.0364 - accuracy: 0.3437\n",
      "Epoch 3/10\n",
      "790/790 [==============================] - 976s 1s/step - loss: 0.9643 - accuracy: 0.8080\n",
      "Epoch 4/10\n",
      "790/790 [==============================] - 986s 1s/step - loss: 0.3879 - accuracy: 0.9251\n",
      "Epoch 5/10\n",
      "790/790 [==============================] - 1009s 1s/step - loss: 0.2283 - accuracy: 0.9564\n",
      "Epoch 6/10\n",
      "790/790 [==============================] - 1005s 1s/step - loss: 0.1725 - accuracy: 0.9661\n",
      "Epoch 7/10\n",
      "790/790 [==============================] - 1016s 1s/step - loss: 0.1665 - accuracy: 0.9681\n",
      "Epoch 8/10\n",
      "790/790 [==============================] - 965s 1s/step - loss: 0.2012 - accuracy: 0.9612\n",
      "Epoch 9/10\n",
      "790/790 [==============================] - 966s 1s/step - loss: 0.1971 - accuracy: 0.9624\n",
      "Epoch 10/10\n",
      "790/790 [==============================] - 957s 1s/step - loss: 0.2298 - accuracy: 0.9575\n"
     ]
    }
   ],
   "source": [
    "# Навчання\n",
    "history = model.fit(dataset, epochs=10)"
   ]
  },
  {
   "cell_type": "code",
   "execution_count": 20,
   "metadata": {},
   "outputs": [
    {
     "data": {
      "image/png": "[encoded data removed]",
      "text/plain": [
       "<Figure size 640x480 with 1 Axes>"
      ]
     },
     "metadata": {},
     "output_type": "display_data"
    }
   ],
   "source": [
    "# Візуалізaція результати\n",
    "plt.plot(history.history['accuracy'], label='accuracy')\n",
    "plt.xlabel(\"Epochs\")\n",
    "plt.ylabel(\"Loss\")\n",
    "plt.legend()\n",
    "plt.show()"
   ]
  },
  {
   "cell_type": "code",
   "execution_count": 22,
   "metadata": {
    "colab": {
     "base_uri": "https://localhost:8080/",
     "height": 763
    },
    "executionInfo": {
     "elapsed": 2744961,
     "status": "error",
     "timestamp": 1681244156788,
     "user": {
      "displayName": "Yaroslav Pererva",
      "userId": "13071866761254317246"
     },
     "user_tz": -60
    },
    "id": "zuFdGtCHKGZV",
    "outputId": "cd1b530f-516a-4519-cc25-dd44503f4b03"
   },
   "outputs": [
    {
     "name": "stdout",
     "output_type": "stream",
     "text": [
      "############ starting training resnet adam ############\n",
      "Epoch 1/10\n",
      "790/790 [==============================] - 1581s 2s/step - loss: 2056.2227 - accuracy: 0.0117\n",
      "Epoch 2/10\n",
      "790/790 [==============================] - 1666s 2s/step - loss: 1936.2006 - accuracy: 0.0145\n",
      "Epoch 3/10\n",
      "790/790 [==============================] - 1695s 2s/step - loss: 1860.3517 - accuracy: 0.0162\n",
      "Epoch 4/10\n",
      "790/790 [==============================] - 1687s 2s/step - loss: 1784.8264 - accuracy: 0.0179\n",
      "Epoch 5/10\n",
      "790/790 [==============================] - 1662s 2s/step - loss: 1776.0616 - accuracy: 0.0192\n",
      "Epoch 6/10\n",
      "790/790 [==============================] - 1645s 2s/step - loss: 1776.6870 - accuracy: 0.0190\n",
      "Epoch 7/10\n",
      "790/790 [==============================] - 1662s 2s/step - loss: 1786.2633 - accuracy: 0.0202\n",
      "Epoch 8/10\n",
      "790/790 [==============================] - 1643s 2s/step - loss: 1730.9376 - accuracy: 0.0200\n",
      "Epoch 9/10\n",
      "790/790 [==============================] - 1660s 2s/step - loss: 1762.1479 - accuracy: 0.0202\n",
      "Epoch 10/10\n",
      "790/790 [==============================] - 1663s 2s/step - loss: 1687.5287 - accuracy: 0.0219\n",
      "############ starting training resnet sgd ############\n",
      "Epoch 1/10\n",
      "790/790 [==============================] - 1647s 2s/step - loss: 16056961.0000 - accuracy: 0.0087\n",
      "Epoch 2/10\n",
      "790/790 [==============================] - 1651s 2s/step - loss: 15868439.0000 - accuracy: 0.0101\n",
      "Epoch 3/10\n",
      "790/790 [==============================] - 1653s 2s/step - loss: 15539109.0000 - accuracy: 0.0102\n",
      "Epoch 4/10\n",
      "790/790 [==============================] - 1659s 2s/step - loss: 15339486.0000 - accuracy: 0.0097\n",
      "Epoch 5/10\n",
      "790/790 [==============================] - 1658s 2s/step - loss: 14917426.0000 - accuracy: 0.0107\n",
      "Epoch 6/10\n",
      "790/790 [==============================] - 1652s 2s/step - loss: 14463541.0000 - accuracy: 0.0115\n",
      "Epoch 7/10\n",
      "790/790 [==============================] - 1657s 2s/step - loss: 14287781.0000 - accuracy: 0.0107\n",
      "Epoch 8/10\n",
      "790/790 [==============================] - 1670s 2s/step - loss: 14330385.0000 - accuracy: 0.0124\n",
      "Epoch 9/10\n",
      "790/790 [==============================] - 1656s 2s/step - loss: 13781873.0000 - accuracy: 0.0122\n",
      "Epoch 10/10\n",
      "790/790 [==============================] - 1659s 2s/step - loss: 13718221.0000 - accuracy: 0.0112\n"
     ]
    }
   ],
   "source": [
    "models = [resnet_adam, resnet_sgd, efficientNet_sgd, efficientNet_adam]\n",
    "names = [\"resnet adam\", \"resnet sgd\", \"efficientNet sgd\",\"efficientNet adam\"]\n",
    "histories = []\n",
    "for model, name  in zip(models[:2], names[:2]):\n",
    "  print(f\"############ starting training {name} ############\")\n",
    "  history = model.fit(train_dataset, epochs=10)\n",
    "  histories.append(history)"
   ]
  },
  {
   "cell_type": "code",
   "execution_count": 23,
   "metadata": {
    "id": "czdVRirUmkhv"
   },
   "outputs": [
    {
     "name": "stdout",
     "output_type": "stream",
     "text": [
      "resnet adam:loss: []\n",
      "resnet sgd:loss: []\n"
     ]
    },
    {
     "data": {
      "image/png": "[encoded data removed]",
      "text/plain": [
       "<Figure size 640x480 with 1 Axes>"
      ]
     },
     "metadata": {},
     "output_type": "display_data"
    }
   ],
   "source": [
    "eval_models(models[:2], names[:2], histories[:2], test_dataset)"
   ]
  },
  {
   "cell_type": "code",
   "execution_count": null,
   "metadata": {},
   "outputs": [],
   "source": []
  }
 ],
 "metadata": {
  "accelerator": "GPU",
  "colab": {
   "provenance": []
  },
  "gpuClass": "standard",
  "kernelspec": {
   "display_name": "Python 3 (ipykernel)",
   "language": "python",
   "name": "python3"
  },
  "language_info": {
   "codemirror_mode": {
    "name": "ipython",
    "version": 3
   },
   "file_extension": ".py",
   "mimetype": "text/x-python",
   "name": "python",
   "nbconvert_exporter": "python",
   "pygments_lexer": "ipython3",
   "version": "3.10.9"
  }
 },
 "nbformat": 4,
 "nbformat_minor": 1
}
